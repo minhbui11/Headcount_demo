{
 "cells": [
  {
   "cell_type": "code",
   "execution_count": 1,
   "id": "44c7f701",
   "metadata": {},
   "outputs": [],
   "source": [
    "import pandas as pd\n",
    "import numpy as np\n",
    "import datetime\n",
    "from autogluon.timeseries import TimeSeriesDataFrame, TimeSeriesPredictor\n",
    "import plotly.express as px"
   ]
  },
  {
   "cell_type": "code",
   "execution_count": 2,
   "id": "d5da884c",
   "metadata": {},
   "outputs": [],
   "source": [
    "df = pd.read_csv('pick_pack_TBN1.csv')\n",
    "df_fore = pd.read_csv('forecast_volume.csv')"
   ]
  },
  {
   "cell_type": "code",
   "execution_count": 3,
   "id": "9f28f767",
   "metadata": {},
   "outputs": [],
   "source": [
    "df[['warehouse', 'day_type']] = df[['warehouse', 'day_type']].astype('category')\n",
    "df.replace([np.inf, -np.inf], np.nan, inplace=True)\n",
    "df['datetime'] = ( pd.to_datetime(df['day'])  + pd.to_timedelta(df['hour'], unit='h'))\n",
    "df = df.drop(columns=['day', 'hour'])\n",
    "\n",
    "# 2) Create item_id before one-hot\n",
    "df['item_id'] = df['warehouse'].astype(str) + '_' + df['day_type'].astype(str)\n",
    "\n",
    "# # 3) One-hot encode\n",
    "# df_encoded = pd.get_dummies(df, columns=['warehouse', 'day_type'], drop_first=True)"
   ]
  },
  {
   "cell_type": "code",
   "execution_count": 4,
   "id": "1a3e2725",
   "metadata": {},
   "outputs": [],
   "source": [
    "df_fore['day'] = pd.to_datetime(df_fore['full_date']).dt.date\n",
    "df_fore['day'] = pd.to_datetime(df_fore['day'])\n",
    "df_fore.sort_values(by='day', inplace=True)\n",
    "\n",
    "df_fore['datetime'] = ( pd.to_datetime(df_fore['full_date'])  + pd.to_timedelta(df_fore['hour'], unit='h'))\n",
    "df_fore[['warehouse','day_type']] = df_fore[['warehouse','day_type']].astype('category')\n",
    "\n",
    "# Drop cột không cần\n",
    "df_fore_processed = df_fore.drop(columns=['day', 'full_date', 'hour'])\n",
    "df_fore_processed = df_fore_processed.rename(columns={'units_forecast': 'units', 'orders_forecast': 'orders'})\n",
    "\n",
    "# Tạo item_id để group series\n",
    "df_fore_processed['item_id'] = df_fore_processed['warehouse'].astype(str) + '_' + df_fore_processed['day_type'].astype(str)\n",
    "\n",
    "# df_fore_enc = pd.get_dummies(df_fore_processed, columns=['warehouse','day_type'], drop_first=True)\n",
    "\n",
    "df_fore_processed['count_pick'] = np.nan\n",
    "df_fore_processed['count_pack'] = np.nan"
   ]
  },
  {
   "cell_type": "code",
   "execution_count": 5,
   "id": "15268377",
   "metadata": {},
   "outputs": [],
   "source": [
    "# df_merged = pd.merge(\n",
    "#     df_fore_processed,\n",
    "#     df,\n",
    "#     on=['datetime', 'item_id'],\n",
    "#     how='left',\n",
    "#     suffixes=('_fore', '_hist')\n",
    "# )\n",
    "# cutoff_date = pd.Timestamp('2025-05-15')\n",
    "# df_merged['units']       = np.where(df_merged['datetime'] <= '2025-05-13 23:00:00', df_merged['units_hist'],       df_merged['units_fore'])\n",
    "# df_merged['orders']      = np.where(df_merged['datetime'] <= '2025-05-13 23:00:00', df_merged['orders_hist'],      df_merged['orders_fore'])\n",
    "# df_merged['count_pick']  = np.where(df_merged['datetime'] <= '2025-05-13 23:00:00', df_merged['count_pick_hist'],  np.nan)\n",
    "# df_merged['count_pack']  = np.where(df_merged['datetime'] <= '2025-05-13 23:00:00', df_merged['count_pack_hist'],  np.nan)\n",
    "\n",
    "\n",
    "# df_merged_enc = pd.get_dummies(df_merged, columns=['warehouse_fore', 'day_type_fore'], drop_first=True)\n",
    "\n",
    "# df_merged_final = df_merged_enc[['datetime', 'item_id', 'units', 'orders', 'count_pick', 'count_pack']].copy()\n",
    "# df_merged_final = df_merged_final.dropna(subset=['units', 'orders'])\n",
    "# df_merged_train = df_merged_final[\n",
    "#     df_merged_final['datetime'] <= cutoff_date\n",
    "# ].dropna(subset=['count_pick', 'count_pack'])\n",
    "\n",
    "# train_ts = TimeSeriesDataFrame.from_data_frame(\n",
    "#     df_merged_train,\n",
    "#     id_column=\"item_id\",\n",
    "#     timestamp_column=\"datetime\"\n",
    "# )\n",
    "\n",
    "# prediction_pack = TimeSeriesPredictor.load(\"Autogluon_Pack_avg\")\n",
    "# prediction_pick = TimeSeriesPredictor.load(\"Autogluon_Pick_avg\")\n",
    "\n",
    "# pred_pack_ts = prediction_pack.predict(train_ts, random_seed=42).to_data_frame().reset_index()\n",
    "# pred_pick_ts = prediction_pick.predict(train_ts, random_seed=42).to_data_frame().reset_index()\n",
    "\n",
    "\n",
    "# df_pack_pred = pred_pack_ts.rename(columns={'mean': 'count_pack'})\n",
    "# df_pick_pred = pred_pick_ts.rename(columns={'mean': 'count_pick'})\n",
    "# df_pred = pd.merge(df_pack_pred, df_pick_pred, on=['item_id', 'timestamp'], how='outer')\n",
    "# df_pred = df_pred.rename(columns={'timestamp': 'datetime'})\n",
    "\n",
    "# df_pred.head()"
   ]
  },
  {
   "cell_type": "code",
   "execution_count": 6,
   "id": "0ade001d",
   "metadata": {},
   "outputs": [],
   "source": [
    "# df_merged_combined = pd.merge(\n",
    "#     df_merged_final,\n",
    "#     df_pred[['item_id', 'datetime', 'count_pack', 'count_pick']],\n",
    "#     on=[ 'datetime'],\n",
    "#     how='outer',  # giữ tất cả dữ liệu từ cả hai bảng\n",
    "#     suffixes=('', '_forecast')\n",
    "# )\n",
    "\n",
    "# # Nếu muốn dùng forecast làm giá trị thay thế khi thiếu\n",
    "# df_merged_combined['count_pack'] = df_merged_combined['count_pack'].combine_first(df_merged_combined['count_pack_forecast'])\n",
    "# df_merged_combined['count_pick'] = df_merged_combined['count_pick'].combine_first(df_merged_combined['count_pick_forecast'])\n",
    "\n",
    "# # Xoá cột forecast tạm\n",
    "# df_merged_combined.drop(columns=['count_pack_forecast', 'count_pick_forecast'], inplace=True)\n"
   ]
  },
  {
   "cell_type": "code",
   "execution_count": 7,
   "id": "5b1e7e9a",
   "metadata": {},
   "outputs": [
    {
     "name": "stderr",
     "output_type": "stream",
     "text": [
      "data with frequency 'IRREG' has been resampled to frequency 'h'.\n",
      "data with frequency 'IRREG' has been resampled to frequency 'h'.\n",
      "data with frequency 'IRREG' has been resampled to frequency 'h'.\n"
     ]
    },
    {
     "name": "stdout",
     "output_type": "stream",
     "text": [
      "✅ Dự báo xong ngày 2025-05-14 — 23 bản ghi.\n"
     ]
    },
    {
     "name": "stderr",
     "output_type": "stream",
     "text": [
      "data with frequency 'IRREG' has been resampled to frequency 'h'.\n",
      "data with frequency 'IRREG' has been resampled to frequency 'h'.\n"
     ]
    },
    {
     "name": "stdout",
     "output_type": "stream",
     "text": [
      "✅ Dự báo xong ngày 2025-05-15 — 23 bản ghi.\n"
     ]
    },
    {
     "name": "stderr",
     "output_type": "stream",
     "text": [
      "data with frequency 'IRREG' has been resampled to frequency 'h'.\n",
      "data with frequency 'IRREG' has been resampled to frequency 'h'.\n"
     ]
    },
    {
     "name": "stdout",
     "output_type": "stream",
     "text": [
      "✅ Dự báo xong ngày 2025-05-16 — 23 bản ghi.\n"
     ]
    },
    {
     "name": "stderr",
     "output_type": "stream",
     "text": [
      "data with frequency 'IRREG' has been resampled to frequency 'h'.\n",
      "data with frequency 'IRREG' has been resampled to frequency 'h'.\n"
     ]
    },
    {
     "name": "stdout",
     "output_type": "stream",
     "text": [
      "✅ Dự báo xong ngày 2025-05-17 — 23 bản ghi.\n"
     ]
    },
    {
     "name": "stderr",
     "output_type": "stream",
     "text": [
      "data with frequency 'IRREG' has been resampled to frequency 'h'.\n",
      "data with frequency 'IRREG' has been resampled to frequency 'h'.\n"
     ]
    },
    {
     "name": "stdout",
     "output_type": "stream",
     "text": [
      "✅ Dự báo xong ngày 2025-05-18 — 23 bản ghi.\n"
     ]
    },
    {
     "name": "stderr",
     "output_type": "stream",
     "text": [
      "data with frequency 'IRREG' has been resampled to frequency 'h'.\n",
      "data with frequency 'IRREG' has been resampled to frequency 'h'.\n"
     ]
    },
    {
     "name": "stdout",
     "output_type": "stream",
     "text": [
      "✅ Dự báo xong ngày 2025-05-19 — 23 bản ghi.\n"
     ]
    },
    {
     "name": "stderr",
     "output_type": "stream",
     "text": [
      "data with frequency 'IRREG' has been resampled to frequency 'h'.\n",
      "data with frequency 'IRREG' has been resampled to frequency 'h'.\n"
     ]
    },
    {
     "name": "stdout",
     "output_type": "stream",
     "text": [
      "✅ Dự báo xong ngày 2025-05-20 — 23 bản ghi.\n"
     ]
    },
    {
     "name": "stderr",
     "output_type": "stream",
     "text": [
      "data with frequency 'IRREG' has been resampled to frequency 'h'.\n",
      "data with frequency 'IRREG' has been resampled to frequency 'h'.\n"
     ]
    },
    {
     "name": "stdout",
     "output_type": "stream",
     "text": [
      "✅ Dự báo xong ngày 2025-05-21 — 23 bản ghi.\n"
     ]
    },
    {
     "name": "stderr",
     "output_type": "stream",
     "text": [
      "data with frequency 'IRREG' has been resampled to frequency 'h'.\n",
      "data with frequency 'IRREG' has been resampled to frequency 'h'.\n"
     ]
    },
    {
     "name": "stdout",
     "output_type": "stream",
     "text": [
      "✅ Dự báo xong ngày 2025-05-22 — 23 bản ghi.\n"
     ]
    },
    {
     "name": "stderr",
     "output_type": "stream",
     "text": [
      "data with frequency 'IRREG' has been resampled to frequency 'h'.\n",
      "data with frequency 'IRREG' has been resampled to frequency 'h'.\n"
     ]
    },
    {
     "name": "stdout",
     "output_type": "stream",
     "text": [
      "✅ Dự báo xong ngày 2025-05-23 — 23 bản ghi.\n"
     ]
    },
    {
     "name": "stderr",
     "output_type": "stream",
     "text": [
      "data with frequency 'IRREG' has been resampled to frequency 'h'.\n",
      "data with frequency 'IRREG' has been resampled to frequency 'h'.\n"
     ]
    },
    {
     "name": "stdout",
     "output_type": "stream",
     "text": [
      "✅ Dự báo xong ngày 2025-05-24 — 23 bản ghi.\n"
     ]
    },
    {
     "name": "stderr",
     "output_type": "stream",
     "text": [
      "data with frequency 'IRREG' has been resampled to frequency 'h'.\n",
      "data with frequency 'IRREG' has been resampled to frequency 'h'.\n"
     ]
    },
    {
     "name": "stdout",
     "output_type": "stream",
     "text": [
      "✅ Dự báo xong ngày 2025-05-25 — 23 bản ghi.\n"
     ]
    },
    {
     "name": "stderr",
     "output_type": "stream",
     "text": [
      "data with frequency 'IRREG' has been resampled to frequency 'h'.\n",
      "data with frequency 'IRREG' has been resampled to frequency 'h'.\n"
     ]
    },
    {
     "name": "stdout",
     "output_type": "stream",
     "text": [
      "✅ Dự báo xong ngày 2025-05-26 — 23 bản ghi.\n"
     ]
    },
    {
     "name": "stderr",
     "output_type": "stream",
     "text": [
      "data with frequency 'IRREG' has been resampled to frequency 'h'.\n",
      "data with frequency 'IRREG' has been resampled to frequency 'h'.\n"
     ]
    },
    {
     "name": "stdout",
     "output_type": "stream",
     "text": [
      "✅ Dự báo xong ngày 2025-05-27 — 23 bản ghi.\n"
     ]
    },
    {
     "name": "stderr",
     "output_type": "stream",
     "text": [
      "data with frequency 'IRREG' has been resampled to frequency 'h'.\n"
     ]
    },
    {
     "name": "stdout",
     "output_type": "stream",
     "text": [
      "✅ Dự báo xong ngày 2025-05-28 — 23 bản ghi.\n"
     ]
    },
    {
     "data": {
      "application/vnd.microsoft.datawrangler.viewer.v0+json": {
       "columns": [
        {
         "name": "index",
         "rawType": "int64",
         "type": "integer"
        },
        {
         "name": "item_id",
         "rawType": "object",
         "type": "string"
        },
        {
         "name": "datetime",
         "rawType": "datetime64[ns]",
         "type": "datetime"
        },
        {
         "name": "count_pack",
         "rawType": "float64",
         "type": "float"
        },
        {
         "name": "0.1_x",
         "rawType": "float64",
         "type": "float"
        },
        {
         "name": "0.5_x",
         "rawType": "float64",
         "type": "float"
        },
        {
         "name": "0.9_x",
         "rawType": "float64",
         "type": "float"
        },
        {
         "name": "count_pick",
         "rawType": "float64",
         "type": "float"
        },
        {
         "name": "0.1_y",
         "rawType": "float64",
         "type": "float"
        },
        {
         "name": "0.5_y",
         "rawType": "float64",
         "type": "float"
        },
        {
         "name": "0.9_y",
         "rawType": "float64",
         "type": "float"
        }
       ],
       "conversionMethod": "pd.DataFrame",
       "ref": "d36b3688-9d82-4bae-9502-3b11bc9c6bc0",
       "rows": [
        [
         "0",
         "TBN1_Normal",
         "2025-05-14 00:00:00",
         "5.6415871733220335",
         "0.4377869394985167",
         "5.636019555597423",
         "9.041193601994095",
         "2.3793392062187193",
         "0.6506092766353062",
         "2.3793064321790425",
         "4.0840452882221765"
        ],
        [
         "1",
         "TBN1_Normal",
         "2025-05-14 01:00:00",
         "6.052951574687349",
         "0.7703993831978597",
         "6.040911570949362",
         "9.6408041877222",
         "3.8287585403238023",
         "1.9217203334399633",
         "3.826703335983413",
         "5.688512189728873"
        ],
        [
         "2",
         "TBN1_Normal",
         "2025-05-14 02:00:00",
         "7.239376290047074",
         "1.651663943041116",
         "7.205642190740863",
         "11.276901409144083",
         "3.5023603337151665",
         "1.5180908255917687",
         "3.501969591634614",
         "5.426108356884548"
        ],
        [
         "3",
         "TBN1_Normal",
         "2025-05-14 03:00:00",
         "6.893043275843077",
         "1.447456120124953",
         "6.871487437166692",
         "11.004419697010862",
         "2.7745190024375916",
         "0.5436344799825124",
         "2.766987783568246",
         "4.963762464523315"
        ],
        [
         "4",
         "TBN1_Normal",
         "2025-05-14 04:00:00",
         "8.15574779173512",
         "2.8399929838628015",
         "8.157876282395076",
         "12.368245069472163",
         "2.6150071669306074",
         "0.02594684737069264",
         "2.525837446110589",
         "5.276366746766227"
        ],
        [
         "5",
         "TBN1_Normal",
         "2025-05-14 05:00:00",
         "8.456750903290754",
         "3.8106873577932685",
         "8.452527246761656",
         "12.215391216786813",
         "3.9506082187380107",
         "1.9772142685311183",
         "3.8465080601828436",
         "5.982568465641567"
        ],
        [
         "6",
         "TBN1_Normal",
         "2025-05-14 06:00:00",
         "8.948271734636494",
         "4.47307753092505",
         "8.952974281141538",
         "12.714291833994606",
         "7.070139082840511",
         "4.2780688386304035",
         "7.150100818702153",
         "9.599209356989178"
        ],
        [
         "7",
         "TBN1_Normal",
         "2025-05-14 07:00:00",
         "9.622399910461276",
         "5.69303745313904",
         "9.633429674241768",
         "12.973221579903708",
         "8.067960222516742",
         "5.3260597404411865",
         "8.268062809535436",
         "10.760944728170124"
        ],
        [
         "8",
         "TBN1_Normal",
         "2025-05-14 08:00:00",
         "10.128786987028102",
         "5.914733076323728",
         "10.130704678817626",
         "13.853960072940273",
         "7.6666845028741015",
         "3.7015264948776787",
         "7.69914676461901",
         "10.910821362222944"
        ],
        [
         "9",
         "TBN1_Normal",
         "2025-05-14 09:00:00",
         "10.777163845790474",
         "6.15744802452461",
         "10.781614565922503",
         "14.964552423675322",
         "6.2305101361955915",
         "2.9289473458698816",
         "6.0614613260541645",
         "9.78798347881862"
        ],
        [
         "10",
         "TBN1_Normal",
         "2025-05-14 10:00:00",
         "10.129817201377808",
         "5.128473272717619",
         "10.113532154838918",
         "14.7886639158845",
         "6.087322709219796",
         "2.5645278574739185",
         "5.8504791259765625",
         "10.050446030753"
        ],
        [
         "11",
         "TBN1_Normal",
         "2025-05-14 11:00:00",
         "10.420844718655744",
         "5.4164825715032165",
         "10.403835268692156",
         "15.189241714705474",
         "6.882732973098754",
         "3.135585426432746",
         "6.6120111397334504",
         "10.371097636222839"
        ],
        [
         "12",
         "TBN1_Normal",
         "2025-05-14 12:00:00",
         "9.945948593457105",
         "5.435104117146963",
         "9.940722646895882",
         "14.260170420911656",
         "8.208202625955852",
         "4.299577013424464",
         "7.902869009971619",
         "12.17797209739685"
        ],
        [
         "13",
         "TBN1_Normal",
         "2025-05-14 13:00:00",
         "10.799851001459896",
         "6.532642386869874",
         "10.781900737694802",
         "14.956364999809292",
         "8.657234565734864",
         "4.392793623719896",
         "8.376624447958811",
         "13.115998776299612"
        ],
        [
         "14",
         "TBN1_Normal",
         "2025-05-14 14:00:00",
         "10.899804342768604",
         "5.758738569937855",
         "10.875521045398457",
         "15.978188067225664",
         "7.94239411013467",
         "3.8636721246583123",
         "7.260469576290675",
         "12.743082564217703"
        ],
        [
         "15",
         "TBN1_Normal",
         "2025-05-14 15:00:00",
         "10.150772280169628",
         "4.625853935001805",
         "10.11624484629262",
         "15.67133811106091",
         "7.61923162651062",
         "3.701894554070064",
         "7.114200108391898",
         "11.266155688422067"
        ],
        [
         "16",
         "TBN1_Normal",
         "2025-05-14 16:00:00",
         "9.723839437302775",
         "4.691577298643607",
         "9.701705570120893",
         "14.795677523193719",
         "6.579772840499878",
         "3.4686837131636485",
         "6.504302780968802",
         "10.229962609154837"
        ],
        [
         "17",
         "TBN1_Normal",
         "2025-05-14 17:00:00",
         "8.556360849232757",
         "4.50014671832642",
         "8.541111341280569",
         "12.665197096651877",
         "5.647219395909991",
         "2.7083537694386073",
         "5.658061146736145",
         "8.551798246928623"
        ],
        [
         "18",
         "TBN1_Normal",
         "2025-05-14 18:00:00",
         "8.201084208885323",
         "4.1489468571129775",
         "8.16485026043305",
         "12.245679688103376",
         "5.204430706160409",
         "1.8088827216625214",
         "4.855000042915345",
         "8.896565552439007"
        ],
        [
         "19",
         "TBN1_Normal",
         "2025-05-14 19:00:00",
         "8.169866039021207",
         "4.079436269341212",
         "8.126693182252062",
         "12.220801172242684",
         "6.008842871393476",
         "3.2429459949902126",
         "5.784342462675912",
         "8.950663351331439"
        ],
        [
         "20",
         "TBN1_Normal",
         "2025-05-14 20:00:00",
         "8.536168371446191",
         "4.529039194200864",
         "8.498254845925068",
         "12.47717926523676",
         "6.1381371267863685",
         "3.181606774500438",
         "5.97764949457986",
         "9.080506439208985"
        ],
        [
         "21",
         "TBN1_Normal",
         "2025-05-14 21:00:00",
         "8.493238673188946",
         "4.333650424647341",
         "8.443251501182019",
         "12.590932040472506",
         "6.162175980772291",
         "3.1492340515341075",
         "6.069532205377307",
         "9.332292376245771"
        ],
        [
         "22",
         "TBN1_Normal",
         "2025-05-14 22:00:00",
         "7.769643110340769",
         "2.827755864077127",
         "7.721903240838944",
         "12.644340318780785",
         "3.6960186668804713",
         "2.043519651378904",
         "3.6922145553997585",
         "5.317318974903651"
        ],
        [
         "23",
         "TBN1_Normal",
         "2025-05-15 00:00:00",
         "6.130723944226267",
         "1.905466382763927",
         "6.125137989514167",
         "9.102853796424695",
         "3.283911121286665",
         "0.8570582440921238",
         "3.5936019652230398",
         "5.606440501894269"
        ],
        [
         "24",
         "TBN1_Normal",
         "2025-05-15 01:00:00",
         "6.333230789118785",
         "2.0976627922881743",
         "6.321151170618843",
         "9.403610256929582",
         "5.7994664575615715",
         "3.5453837288520775",
         "5.8031742956200425",
         "8.129013223161502"
        ],
        [
         "25",
         "TBN1_Normal",
         "2025-05-15 02:00:00",
         "7.614895393771795",
         "3.3179911748717643",
         "7.5810502960973265",
         "10.846400722929904",
         "5.15377659106741",
         "2.8214510511378856",
         "5.154494026631726",
         "7.5743719297525836"
        ],
        [
         "26",
         "TBN1_Normal",
         "2025-05-15 03:00:00",
         "7.421202644754549",
         "2.8174080387034186",
         "7.399575844691664",
         "11.114420809095227",
         "4.043328682354518",
         "1.4624553859659604",
         "4.048542992046901",
         "6.700611805234637"
        ],
        [
         "27",
         "TBN1_Normal",
         "2025-05-15 04:00:00",
         "8.347265987038238",
         "3.8788891594435606",
         "8.349401465098689",
         "12.074039505104714",
         "3.6621481980148634",
         "0.8889481554264926",
         "3.6602101342571025",
         "6.50371483968618"
        ],
        [
         "28",
         "TBN1_Normal",
         "2025-05-15 05:00:00",
         "8.473971358054332",
         "4.3860710084501005",
         "8.4697338034582",
         "11.998594543974388",
         "4.182454888294765",
         "1.7677471123422897",
         "3.8473073175975254",
         "7.347356468278535"
        ],
        [
         "29",
         "TBN1_Normal",
         "2025-05-15 06:00:00",
         "8.573611023853385",
         "4.562100416445378",
         "8.578329043292896",
         "12.198321154228275",
         "6.911413242178547",
         "3.9305247058187214",
         "6.92837552683694",
         "10.005370868955339"
        ],
        [
         "30",
         "TBN1_Normal",
         "2025-05-15 07:00:00",
         "9.27469070368176",
         "5.5501997619240075",
         "9.285756760841",
         "12.763855980653931",
         "8.210683911868037",
         "5.412614497797829",
         "8.318603318078178",
         "11.619500455856322"
        ],
        [
         "31",
         "TBN1_Normal",
         "2025-05-15 08:00:00",
         "9.389437672040835",
         "5.257434238994066",
         "9.391361668486738",
         "13.401014346489596",
         "7.612854140225624",
         "3.7865950557163783",
         "7.710304267065865",
         "11.370079917907715"
        ],
        [
         "32",
         "TBN1_Normal",
         "2025-05-15 09:00:00",
         "9.730869523306652",
         "5.410521048651179",
         "9.735334871070915",
         "14.00519885762667",
         "6.557307892940443",
         "3.277975365434374",
         "6.255154367855617",
         "10.350253180095127"
        ],
        [
         "33",
         "TBN1_Normal",
         "2025-05-15 10:00:00",
         "9.003249076558784",
         "4.391241009295809",
         "8.986910452598973",
         "13.66445519500908",
         "6.162974795059671",
         "2.910517107418605",
         "5.606808686256409",
         "10.459939925330026"
        ],
        [
         "34",
         "TBN1_Normal",
         "2025-05-15 11:00:00",
         "9.258851150958556",
         "4.7563703414623335",
         "9.24178574914174",
         "13.909526639623108",
         "7.070221390762329",
         "3.4370531306947982",
         "6.6334034579140795",
         "12.339273266111102"
        ],
        [
         "35",
         "TBN1_Normal",
         "2025-05-15 12:00:00",
         "8.746314503880367",
         "4.745121647934255",
         "8.741071343066416",
         "12.920879236884655",
         "8.092929061966565",
         "4.261498466559819",
         "8.17871391432626",
         "12.172568652289254"
        ],
        [
         "36",
         "TBN1_Normal",
         "2025-05-15 13:00:00",
         "9.465299822342235",
         "5.597924418508896",
         "9.447290525705643",
         "13.584755019320125",
         "8.066892380199977",
         "4.0421363898686",
         "8.02102848802294",
         "12.729790442330497"
        ],
        [
         "37",
         "TBN1_Normal",
         "2025-05-15 14:00:00",
         "9.608679309012121",
         "5.193423191139329",
         "9.584316105223872",
         "14.333183760117073",
         "7.540859295105448",
         "3.5948434700284686",
         "7.223159354073661",
         "12.252234091077533"
        ],
        [
         "38",
         "TBN1_Normal",
         "2025-05-15 15:00:00",
         "8.988212742281057",
         "4.362670918960737",
         "8.953571708022116",
         "14.008720877744505",
         "7.418024728264944",
         "3.367403424807957",
         "7.105325923647199",
         "12.593609059878759"
        ],
        [
         "39",
         "TBN1_Normal",
         "2025-05-15 16:00:00",
         "8.940342307168372",
         "4.61249764018347",
         "8.918135595093212",
         "13.738166506823354",
         "6.322806379354204",
         "2.963634158543178",
         "6.030199640137809",
         "9.87083332674844"
        ],
        [
         "40",
         "TBN1_Normal",
         "2025-05-15 17:00:00",
         "7.811701885132123",
         "4.245347497416258",
         "7.796402237321436",
         "11.812490771542992",
         "5.699715833515012",
         "2.686594860383442",
         "5.655065766402654",
         "8.644184464045933"
        ],
        [
         "41",
         "TBN1_Normal",
         "2025-05-15 18:00:00",
         "7.595261031368825",
         "4.17785427754035",
         "7.55890785260499",
         "11.32050312941995",
         "5.107583342166823",
         "1.703283406325749",
         "5.039344552585057",
         "8.76030839920044"
        ],
        [
         "42",
         "TBN1_Normal",
         "2025-05-15 19:00:00",
         "7.888279181457854",
         "4.55373661681048",
         "7.844964284221451",
         "11.478195550279105",
         "5.617276718587915",
         "2.83425659264837",
         "5.412295760427202",
         "8.695930685315814"
        ],
        [
         "43",
         "TBN1_Normal",
         "2025-05-15 20:00:00",
         "8.311292866162733",
         "5.015657831755544",
         "8.273254570891106",
         "11.835717927402824",
         "5.673025287304003",
         "2.6246697614874157",
         "5.790932256834847",
         "8.960047529765538"
        ],
        [
         "44",
         "TBN1_Normal",
         "2025-05-15 21:00:00",
         "8.479563945082",
         "5.051698089746504",
         "8.429412291052662",
         "12.145296081834973",
         "6.113642754180987",
         "3.333271325315748",
         "6.264131653308868",
         "9.200816418784004"
        ],
        [
         "45",
         "TBN1_Normal",
         "2025-05-15 22:00:00",
         "8.130204072092862",
         "4.265372167204022",
         "8.082307142566087",
         "12.233406251000051",
         "4.467042978763581",
         "2.34462126152856",
         "4.017254873684474",
         "6.9683278004977165"
        ],
        [
         "46",
         "TBN1_Normal",
         "2025-05-16 00:00:00",
         "7.0866224645442895",
         "3.8243130700141124",
         "7.081034140727127",
         "9.794071159319586",
         "3.8003951084338605",
         "1.3587655861037118",
         "3.965313832419259",
         "6.125974074226692"
        ],
        [
         "47",
         "TBN1_Normal",
         "2025-05-16 01:00:00",
         "6.7889763029321415",
         "3.5190499417579715",
         "6.776891567011153",
         "9.550851759254233",
         "6.080904052796933",
         "3.700303101734239",
         "6.425117617537607",
         "8.492930237428093"
        ]
       ],
       "shape": {
        "columns": 10,
        "rows": 48
       }
      },
      "text/html": [
       "<div>\n",
       "<style scoped>\n",
       "    .dataframe tbody tr th:only-of-type {\n",
       "        vertical-align: middle;\n",
       "    }\n",
       "\n",
       "    .dataframe tbody tr th {\n",
       "        vertical-align: top;\n",
       "    }\n",
       "\n",
       "    .dataframe thead th {\n",
       "        text-align: right;\n",
       "    }\n",
       "</style>\n",
       "<table border=\"1\" class=\"dataframe\">\n",
       "  <thead>\n",
       "    <tr style=\"text-align: right;\">\n",
       "      <th></th>\n",
       "      <th>item_id</th>\n",
       "      <th>datetime</th>\n",
       "      <th>count_pack</th>\n",
       "      <th>0.1_x</th>\n",
       "      <th>0.5_x</th>\n",
       "      <th>0.9_x</th>\n",
       "      <th>count_pick</th>\n",
       "      <th>0.1_y</th>\n",
       "      <th>0.5_y</th>\n",
       "      <th>0.9_y</th>\n",
       "    </tr>\n",
       "  </thead>\n",
       "  <tbody>\n",
       "    <tr>\n",
       "      <th>0</th>\n",
       "      <td>TBN1_Normal</td>\n",
       "      <td>2025-05-14 00:00:00</td>\n",
       "      <td>5.641587</td>\n",
       "      <td>0.437787</td>\n",
       "      <td>5.636020</td>\n",
       "      <td>9.041194</td>\n",
       "      <td>2.379339</td>\n",
       "      <td>0.650609</td>\n",
       "      <td>2.379306</td>\n",
       "      <td>4.084045</td>\n",
       "    </tr>\n",
       "    <tr>\n",
       "      <th>1</th>\n",
       "      <td>TBN1_Normal</td>\n",
       "      <td>2025-05-14 01:00:00</td>\n",
       "      <td>6.052952</td>\n",
       "      <td>0.770399</td>\n",
       "      <td>6.040912</td>\n",
       "      <td>9.640804</td>\n",
       "      <td>3.828759</td>\n",
       "      <td>1.921720</td>\n",
       "      <td>3.826703</td>\n",
       "      <td>5.688512</td>\n",
       "    </tr>\n",
       "    <tr>\n",
       "      <th>2</th>\n",
       "      <td>TBN1_Normal</td>\n",
       "      <td>2025-05-14 02:00:00</td>\n",
       "      <td>7.239376</td>\n",
       "      <td>1.651664</td>\n",
       "      <td>7.205642</td>\n",
       "      <td>11.276901</td>\n",
       "      <td>3.502360</td>\n",
       "      <td>1.518091</td>\n",
       "      <td>3.501970</td>\n",
       "      <td>5.426108</td>\n",
       "    </tr>\n",
       "    <tr>\n",
       "      <th>3</th>\n",
       "      <td>TBN1_Normal</td>\n",
       "      <td>2025-05-14 03:00:00</td>\n",
       "      <td>6.893043</td>\n",
       "      <td>1.447456</td>\n",
       "      <td>6.871487</td>\n",
       "      <td>11.004420</td>\n",
       "      <td>2.774519</td>\n",
       "      <td>0.543634</td>\n",
       "      <td>2.766988</td>\n",
       "      <td>4.963762</td>\n",
       "    </tr>\n",
       "    <tr>\n",
       "      <th>4</th>\n",
       "      <td>TBN1_Normal</td>\n",
       "      <td>2025-05-14 04:00:00</td>\n",
       "      <td>8.155748</td>\n",
       "      <td>2.839993</td>\n",
       "      <td>8.157876</td>\n",
       "      <td>12.368245</td>\n",
       "      <td>2.615007</td>\n",
       "      <td>0.025947</td>\n",
       "      <td>2.525837</td>\n",
       "      <td>5.276367</td>\n",
       "    </tr>\n",
       "    <tr>\n",
       "      <th>5</th>\n",
       "      <td>TBN1_Normal</td>\n",
       "      <td>2025-05-14 05:00:00</td>\n",
       "      <td>8.456751</td>\n",
       "      <td>3.810687</td>\n",
       "      <td>8.452527</td>\n",
       "      <td>12.215391</td>\n",
       "      <td>3.950608</td>\n",
       "      <td>1.977214</td>\n",
       "      <td>3.846508</td>\n",
       "      <td>5.982568</td>\n",
       "    </tr>\n",
       "    <tr>\n",
       "      <th>6</th>\n",
       "      <td>TBN1_Normal</td>\n",
       "      <td>2025-05-14 06:00:00</td>\n",
       "      <td>8.948272</td>\n",
       "      <td>4.473078</td>\n",
       "      <td>8.952974</td>\n",
       "      <td>12.714292</td>\n",
       "      <td>7.070139</td>\n",
       "      <td>4.278069</td>\n",
       "      <td>7.150101</td>\n",
       "      <td>9.599209</td>\n",
       "    </tr>\n",
       "    <tr>\n",
       "      <th>7</th>\n",
       "      <td>TBN1_Normal</td>\n",
       "      <td>2025-05-14 07:00:00</td>\n",
       "      <td>9.622400</td>\n",
       "      <td>5.693037</td>\n",
       "      <td>9.633430</td>\n",
       "      <td>12.973222</td>\n",
       "      <td>8.067960</td>\n",
       "      <td>5.326060</td>\n",
       "      <td>8.268063</td>\n",
       "      <td>10.760945</td>\n",
       "    </tr>\n",
       "    <tr>\n",
       "      <th>8</th>\n",
       "      <td>TBN1_Normal</td>\n",
       "      <td>2025-05-14 08:00:00</td>\n",
       "      <td>10.128787</td>\n",
       "      <td>5.914733</td>\n",
       "      <td>10.130705</td>\n",
       "      <td>13.853960</td>\n",
       "      <td>7.666685</td>\n",
       "      <td>3.701526</td>\n",
       "      <td>7.699147</td>\n",
       "      <td>10.910821</td>\n",
       "    </tr>\n",
       "    <tr>\n",
       "      <th>9</th>\n",
       "      <td>TBN1_Normal</td>\n",
       "      <td>2025-05-14 09:00:00</td>\n",
       "      <td>10.777164</td>\n",
       "      <td>6.157448</td>\n",
       "      <td>10.781615</td>\n",
       "      <td>14.964552</td>\n",
       "      <td>6.230510</td>\n",
       "      <td>2.928947</td>\n",
       "      <td>6.061461</td>\n",
       "      <td>9.787983</td>\n",
       "    </tr>\n",
       "    <tr>\n",
       "      <th>10</th>\n",
       "      <td>TBN1_Normal</td>\n",
       "      <td>2025-05-14 10:00:00</td>\n",
       "      <td>10.129817</td>\n",
       "      <td>5.128473</td>\n",
       "      <td>10.113532</td>\n",
       "      <td>14.788664</td>\n",
       "      <td>6.087323</td>\n",
       "      <td>2.564528</td>\n",
       "      <td>5.850479</td>\n",
       "      <td>10.050446</td>\n",
       "    </tr>\n",
       "    <tr>\n",
       "      <th>11</th>\n",
       "      <td>TBN1_Normal</td>\n",
       "      <td>2025-05-14 11:00:00</td>\n",
       "      <td>10.420845</td>\n",
       "      <td>5.416483</td>\n",
       "      <td>10.403835</td>\n",
       "      <td>15.189242</td>\n",
       "      <td>6.882733</td>\n",
       "      <td>3.135585</td>\n",
       "      <td>6.612011</td>\n",
       "      <td>10.371098</td>\n",
       "    </tr>\n",
       "    <tr>\n",
       "      <th>12</th>\n",
       "      <td>TBN1_Normal</td>\n",
       "      <td>2025-05-14 12:00:00</td>\n",
       "      <td>9.945949</td>\n",
       "      <td>5.435104</td>\n",
       "      <td>9.940723</td>\n",
       "      <td>14.260170</td>\n",
       "      <td>8.208203</td>\n",
       "      <td>4.299577</td>\n",
       "      <td>7.902869</td>\n",
       "      <td>12.177972</td>\n",
       "    </tr>\n",
       "    <tr>\n",
       "      <th>13</th>\n",
       "      <td>TBN1_Normal</td>\n",
       "      <td>2025-05-14 13:00:00</td>\n",
       "      <td>10.799851</td>\n",
       "      <td>6.532642</td>\n",
       "      <td>10.781901</td>\n",
       "      <td>14.956365</td>\n",
       "      <td>8.657235</td>\n",
       "      <td>4.392794</td>\n",
       "      <td>8.376624</td>\n",
       "      <td>13.115999</td>\n",
       "    </tr>\n",
       "    <tr>\n",
       "      <th>14</th>\n",
       "      <td>TBN1_Normal</td>\n",
       "      <td>2025-05-14 14:00:00</td>\n",
       "      <td>10.899804</td>\n",
       "      <td>5.758739</td>\n",
       "      <td>10.875521</td>\n",
       "      <td>15.978188</td>\n",
       "      <td>7.942394</td>\n",
       "      <td>3.863672</td>\n",
       "      <td>7.260470</td>\n",
       "      <td>12.743083</td>\n",
       "    </tr>\n",
       "    <tr>\n",
       "      <th>15</th>\n",
       "      <td>TBN1_Normal</td>\n",
       "      <td>2025-05-14 15:00:00</td>\n",
       "      <td>10.150772</td>\n",
       "      <td>4.625854</td>\n",
       "      <td>10.116245</td>\n",
       "      <td>15.671338</td>\n",
       "      <td>7.619232</td>\n",
       "      <td>3.701895</td>\n",
       "      <td>7.114200</td>\n",
       "      <td>11.266156</td>\n",
       "    </tr>\n",
       "    <tr>\n",
       "      <th>16</th>\n",
       "      <td>TBN1_Normal</td>\n",
       "      <td>2025-05-14 16:00:00</td>\n",
       "      <td>9.723839</td>\n",
       "      <td>4.691577</td>\n",
       "      <td>9.701706</td>\n",
       "      <td>14.795678</td>\n",
       "      <td>6.579773</td>\n",
       "      <td>3.468684</td>\n",
       "      <td>6.504303</td>\n",
       "      <td>10.229963</td>\n",
       "    </tr>\n",
       "    <tr>\n",
       "      <th>17</th>\n",
       "      <td>TBN1_Normal</td>\n",
       "      <td>2025-05-14 17:00:00</td>\n",
       "      <td>8.556361</td>\n",
       "      <td>4.500147</td>\n",
       "      <td>8.541111</td>\n",
       "      <td>12.665197</td>\n",
       "      <td>5.647219</td>\n",
       "      <td>2.708354</td>\n",
       "      <td>5.658061</td>\n",
       "      <td>8.551798</td>\n",
       "    </tr>\n",
       "    <tr>\n",
       "      <th>18</th>\n",
       "      <td>TBN1_Normal</td>\n",
       "      <td>2025-05-14 18:00:00</td>\n",
       "      <td>8.201084</td>\n",
       "      <td>4.148947</td>\n",
       "      <td>8.164850</td>\n",
       "      <td>12.245680</td>\n",
       "      <td>5.204431</td>\n",
       "      <td>1.808883</td>\n",
       "      <td>4.855000</td>\n",
       "      <td>8.896566</td>\n",
       "    </tr>\n",
       "    <tr>\n",
       "      <th>19</th>\n",
       "      <td>TBN1_Normal</td>\n",
       "      <td>2025-05-14 19:00:00</td>\n",
       "      <td>8.169866</td>\n",
       "      <td>4.079436</td>\n",
       "      <td>8.126693</td>\n",
       "      <td>12.220801</td>\n",
       "      <td>6.008843</td>\n",
       "      <td>3.242946</td>\n",
       "      <td>5.784342</td>\n",
       "      <td>8.950663</td>\n",
       "    </tr>\n",
       "    <tr>\n",
       "      <th>20</th>\n",
       "      <td>TBN1_Normal</td>\n",
       "      <td>2025-05-14 20:00:00</td>\n",
       "      <td>8.536168</td>\n",
       "      <td>4.529039</td>\n",
       "      <td>8.498255</td>\n",
       "      <td>12.477179</td>\n",
       "      <td>6.138137</td>\n",
       "      <td>3.181607</td>\n",
       "      <td>5.977649</td>\n",
       "      <td>9.080506</td>\n",
       "    </tr>\n",
       "    <tr>\n",
       "      <th>21</th>\n",
       "      <td>TBN1_Normal</td>\n",
       "      <td>2025-05-14 21:00:00</td>\n",
       "      <td>8.493239</td>\n",
       "      <td>4.333650</td>\n",
       "      <td>8.443252</td>\n",
       "      <td>12.590932</td>\n",
       "      <td>6.162176</td>\n",
       "      <td>3.149234</td>\n",
       "      <td>6.069532</td>\n",
       "      <td>9.332292</td>\n",
       "    </tr>\n",
       "    <tr>\n",
       "      <th>22</th>\n",
       "      <td>TBN1_Normal</td>\n",
       "      <td>2025-05-14 22:00:00</td>\n",
       "      <td>7.769643</td>\n",
       "      <td>2.827756</td>\n",
       "      <td>7.721903</td>\n",
       "      <td>12.644340</td>\n",
       "      <td>3.696019</td>\n",
       "      <td>2.043520</td>\n",
       "      <td>3.692215</td>\n",
       "      <td>5.317319</td>\n",
       "    </tr>\n",
       "    <tr>\n",
       "      <th>23</th>\n",
       "      <td>TBN1_Normal</td>\n",
       "      <td>2025-05-15 00:00:00</td>\n",
       "      <td>6.130724</td>\n",
       "      <td>1.905466</td>\n",
       "      <td>6.125138</td>\n",
       "      <td>9.102854</td>\n",
       "      <td>3.283911</td>\n",
       "      <td>0.857058</td>\n",
       "      <td>3.593602</td>\n",
       "      <td>5.606441</td>\n",
       "    </tr>\n",
       "    <tr>\n",
       "      <th>24</th>\n",
       "      <td>TBN1_Normal</td>\n",
       "      <td>2025-05-15 01:00:00</td>\n",
       "      <td>6.333231</td>\n",
       "      <td>2.097663</td>\n",
       "      <td>6.321151</td>\n",
       "      <td>9.403610</td>\n",
       "      <td>5.799466</td>\n",
       "      <td>3.545384</td>\n",
       "      <td>5.803174</td>\n",
       "      <td>8.129013</td>\n",
       "    </tr>\n",
       "    <tr>\n",
       "      <th>25</th>\n",
       "      <td>TBN1_Normal</td>\n",
       "      <td>2025-05-15 02:00:00</td>\n",
       "      <td>7.614895</td>\n",
       "      <td>3.317991</td>\n",
       "      <td>7.581050</td>\n",
       "      <td>10.846401</td>\n",
       "      <td>5.153777</td>\n",
       "      <td>2.821451</td>\n",
       "      <td>5.154494</td>\n",
       "      <td>7.574372</td>\n",
       "    </tr>\n",
       "    <tr>\n",
       "      <th>26</th>\n",
       "      <td>TBN1_Normal</td>\n",
       "      <td>2025-05-15 03:00:00</td>\n",
       "      <td>7.421203</td>\n",
       "      <td>2.817408</td>\n",
       "      <td>7.399576</td>\n",
       "      <td>11.114421</td>\n",
       "      <td>4.043329</td>\n",
       "      <td>1.462455</td>\n",
       "      <td>4.048543</td>\n",
       "      <td>6.700612</td>\n",
       "    </tr>\n",
       "    <tr>\n",
       "      <th>27</th>\n",
       "      <td>TBN1_Normal</td>\n",
       "      <td>2025-05-15 04:00:00</td>\n",
       "      <td>8.347266</td>\n",
       "      <td>3.878889</td>\n",
       "      <td>8.349401</td>\n",
       "      <td>12.074040</td>\n",
       "      <td>3.662148</td>\n",
       "      <td>0.888948</td>\n",
       "      <td>3.660210</td>\n",
       "      <td>6.503715</td>\n",
       "    </tr>\n",
       "    <tr>\n",
       "      <th>28</th>\n",
       "      <td>TBN1_Normal</td>\n",
       "      <td>2025-05-15 05:00:00</td>\n",
       "      <td>8.473971</td>\n",
       "      <td>4.386071</td>\n",
       "      <td>8.469734</td>\n",
       "      <td>11.998595</td>\n",
       "      <td>4.182455</td>\n",
       "      <td>1.767747</td>\n",
       "      <td>3.847307</td>\n",
       "      <td>7.347356</td>\n",
       "    </tr>\n",
       "    <tr>\n",
       "      <th>29</th>\n",
       "      <td>TBN1_Normal</td>\n",
       "      <td>2025-05-15 06:00:00</td>\n",
       "      <td>8.573611</td>\n",
       "      <td>4.562100</td>\n",
       "      <td>8.578329</td>\n",
       "      <td>12.198321</td>\n",
       "      <td>6.911413</td>\n",
       "      <td>3.930525</td>\n",
       "      <td>6.928376</td>\n",
       "      <td>10.005371</td>\n",
       "    </tr>\n",
       "    <tr>\n",
       "      <th>30</th>\n",
       "      <td>TBN1_Normal</td>\n",
       "      <td>2025-05-15 07:00:00</td>\n",
       "      <td>9.274691</td>\n",
       "      <td>5.550200</td>\n",
       "      <td>9.285757</td>\n",
       "      <td>12.763856</td>\n",
       "      <td>8.210684</td>\n",
       "      <td>5.412614</td>\n",
       "      <td>8.318603</td>\n",
       "      <td>11.619500</td>\n",
       "    </tr>\n",
       "    <tr>\n",
       "      <th>31</th>\n",
       "      <td>TBN1_Normal</td>\n",
       "      <td>2025-05-15 08:00:00</td>\n",
       "      <td>9.389438</td>\n",
       "      <td>5.257434</td>\n",
       "      <td>9.391362</td>\n",
       "      <td>13.401014</td>\n",
       "      <td>7.612854</td>\n",
       "      <td>3.786595</td>\n",
       "      <td>7.710304</td>\n",
       "      <td>11.370080</td>\n",
       "    </tr>\n",
       "    <tr>\n",
       "      <th>32</th>\n",
       "      <td>TBN1_Normal</td>\n",
       "      <td>2025-05-15 09:00:00</td>\n",
       "      <td>9.730870</td>\n",
       "      <td>5.410521</td>\n",
       "      <td>9.735335</td>\n",
       "      <td>14.005199</td>\n",
       "      <td>6.557308</td>\n",
       "      <td>3.277975</td>\n",
       "      <td>6.255154</td>\n",
       "      <td>10.350253</td>\n",
       "    </tr>\n",
       "    <tr>\n",
       "      <th>33</th>\n",
       "      <td>TBN1_Normal</td>\n",
       "      <td>2025-05-15 10:00:00</td>\n",
       "      <td>9.003249</td>\n",
       "      <td>4.391241</td>\n",
       "      <td>8.986910</td>\n",
       "      <td>13.664455</td>\n",
       "      <td>6.162975</td>\n",
       "      <td>2.910517</td>\n",
       "      <td>5.606809</td>\n",
       "      <td>10.459940</td>\n",
       "    </tr>\n",
       "    <tr>\n",
       "      <th>34</th>\n",
       "      <td>TBN1_Normal</td>\n",
       "      <td>2025-05-15 11:00:00</td>\n",
       "      <td>9.258851</td>\n",
       "      <td>4.756370</td>\n",
       "      <td>9.241786</td>\n",
       "      <td>13.909527</td>\n",
       "      <td>7.070221</td>\n",
       "      <td>3.437053</td>\n",
       "      <td>6.633403</td>\n",
       "      <td>12.339273</td>\n",
       "    </tr>\n",
       "    <tr>\n",
       "      <th>35</th>\n",
       "      <td>TBN1_Normal</td>\n",
       "      <td>2025-05-15 12:00:00</td>\n",
       "      <td>8.746315</td>\n",
       "      <td>4.745122</td>\n",
       "      <td>8.741071</td>\n",
       "      <td>12.920879</td>\n",
       "      <td>8.092929</td>\n",
       "      <td>4.261498</td>\n",
       "      <td>8.178714</td>\n",
       "      <td>12.172569</td>\n",
       "    </tr>\n",
       "    <tr>\n",
       "      <th>36</th>\n",
       "      <td>TBN1_Normal</td>\n",
       "      <td>2025-05-15 13:00:00</td>\n",
       "      <td>9.465300</td>\n",
       "      <td>5.597924</td>\n",
       "      <td>9.447291</td>\n",
       "      <td>13.584755</td>\n",
       "      <td>8.066892</td>\n",
       "      <td>4.042136</td>\n",
       "      <td>8.021028</td>\n",
       "      <td>12.729790</td>\n",
       "    </tr>\n",
       "    <tr>\n",
       "      <th>37</th>\n",
       "      <td>TBN1_Normal</td>\n",
       "      <td>2025-05-15 14:00:00</td>\n",
       "      <td>9.608679</td>\n",
       "      <td>5.193423</td>\n",
       "      <td>9.584316</td>\n",
       "      <td>14.333184</td>\n",
       "      <td>7.540859</td>\n",
       "      <td>3.594843</td>\n",
       "      <td>7.223159</td>\n",
       "      <td>12.252234</td>\n",
       "    </tr>\n",
       "    <tr>\n",
       "      <th>38</th>\n",
       "      <td>TBN1_Normal</td>\n",
       "      <td>2025-05-15 15:00:00</td>\n",
       "      <td>8.988213</td>\n",
       "      <td>4.362671</td>\n",
       "      <td>8.953572</td>\n",
       "      <td>14.008721</td>\n",
       "      <td>7.418025</td>\n",
       "      <td>3.367403</td>\n",
       "      <td>7.105326</td>\n",
       "      <td>12.593609</td>\n",
       "    </tr>\n",
       "    <tr>\n",
       "      <th>39</th>\n",
       "      <td>TBN1_Normal</td>\n",
       "      <td>2025-05-15 16:00:00</td>\n",
       "      <td>8.940342</td>\n",
       "      <td>4.612498</td>\n",
       "      <td>8.918136</td>\n",
       "      <td>13.738167</td>\n",
       "      <td>6.322806</td>\n",
       "      <td>2.963634</td>\n",
       "      <td>6.030200</td>\n",
       "      <td>9.870833</td>\n",
       "    </tr>\n",
       "    <tr>\n",
       "      <th>40</th>\n",
       "      <td>TBN1_Normal</td>\n",
       "      <td>2025-05-15 17:00:00</td>\n",
       "      <td>7.811702</td>\n",
       "      <td>4.245347</td>\n",
       "      <td>7.796402</td>\n",
       "      <td>11.812491</td>\n",
       "      <td>5.699716</td>\n",
       "      <td>2.686595</td>\n",
       "      <td>5.655066</td>\n",
       "      <td>8.644184</td>\n",
       "    </tr>\n",
       "    <tr>\n",
       "      <th>41</th>\n",
       "      <td>TBN1_Normal</td>\n",
       "      <td>2025-05-15 18:00:00</td>\n",
       "      <td>7.595261</td>\n",
       "      <td>4.177854</td>\n",
       "      <td>7.558908</td>\n",
       "      <td>11.320503</td>\n",
       "      <td>5.107583</td>\n",
       "      <td>1.703283</td>\n",
       "      <td>5.039345</td>\n",
       "      <td>8.760308</td>\n",
       "    </tr>\n",
       "    <tr>\n",
       "      <th>42</th>\n",
       "      <td>TBN1_Normal</td>\n",
       "      <td>2025-05-15 19:00:00</td>\n",
       "      <td>7.888279</td>\n",
       "      <td>4.553737</td>\n",
       "      <td>7.844964</td>\n",
       "      <td>11.478196</td>\n",
       "      <td>5.617277</td>\n",
       "      <td>2.834257</td>\n",
       "      <td>5.412296</td>\n",
       "      <td>8.695931</td>\n",
       "    </tr>\n",
       "    <tr>\n",
       "      <th>43</th>\n",
       "      <td>TBN1_Normal</td>\n",
       "      <td>2025-05-15 20:00:00</td>\n",
       "      <td>8.311293</td>\n",
       "      <td>5.015658</td>\n",
       "      <td>8.273255</td>\n",
       "      <td>11.835718</td>\n",
       "      <td>5.673025</td>\n",
       "      <td>2.624670</td>\n",
       "      <td>5.790932</td>\n",
       "      <td>8.960048</td>\n",
       "    </tr>\n",
       "    <tr>\n",
       "      <th>44</th>\n",
       "      <td>TBN1_Normal</td>\n",
       "      <td>2025-05-15 21:00:00</td>\n",
       "      <td>8.479564</td>\n",
       "      <td>5.051698</td>\n",
       "      <td>8.429412</td>\n",
       "      <td>12.145296</td>\n",
       "      <td>6.113643</td>\n",
       "      <td>3.333271</td>\n",
       "      <td>6.264132</td>\n",
       "      <td>9.200816</td>\n",
       "    </tr>\n",
       "    <tr>\n",
       "      <th>45</th>\n",
       "      <td>TBN1_Normal</td>\n",
       "      <td>2025-05-15 22:00:00</td>\n",
       "      <td>8.130204</td>\n",
       "      <td>4.265372</td>\n",
       "      <td>8.082307</td>\n",
       "      <td>12.233406</td>\n",
       "      <td>4.467043</td>\n",
       "      <td>2.344621</td>\n",
       "      <td>4.017255</td>\n",
       "      <td>6.968328</td>\n",
       "    </tr>\n",
       "    <tr>\n",
       "      <th>46</th>\n",
       "      <td>TBN1_Normal</td>\n",
       "      <td>2025-05-16 00:00:00</td>\n",
       "      <td>7.086622</td>\n",
       "      <td>3.824313</td>\n",
       "      <td>7.081034</td>\n",
       "      <td>9.794071</td>\n",
       "      <td>3.800395</td>\n",
       "      <td>1.358766</td>\n",
       "      <td>3.965314</td>\n",
       "      <td>6.125974</td>\n",
       "    </tr>\n",
       "    <tr>\n",
       "      <th>47</th>\n",
       "      <td>TBN1_Normal</td>\n",
       "      <td>2025-05-16 01:00:00</td>\n",
       "      <td>6.788976</td>\n",
       "      <td>3.519050</td>\n",
       "      <td>6.776892</td>\n",
       "      <td>9.550852</td>\n",
       "      <td>6.080904</td>\n",
       "      <td>3.700303</td>\n",
       "      <td>6.425118</td>\n",
       "      <td>8.492930</td>\n",
       "    </tr>\n",
       "  </tbody>\n",
       "</table>\n",
       "</div>"
      ],
      "text/plain": [
       "        item_id            datetime  count_pack     0.1_x      0.5_x  \\\n",
       "0   TBN1_Normal 2025-05-14 00:00:00    5.641587  0.437787   5.636020   \n",
       "1   TBN1_Normal 2025-05-14 01:00:00    6.052952  0.770399   6.040912   \n",
       "2   TBN1_Normal 2025-05-14 02:00:00    7.239376  1.651664   7.205642   \n",
       "3   TBN1_Normal 2025-05-14 03:00:00    6.893043  1.447456   6.871487   \n",
       "4   TBN1_Normal 2025-05-14 04:00:00    8.155748  2.839993   8.157876   \n",
       "5   TBN1_Normal 2025-05-14 05:00:00    8.456751  3.810687   8.452527   \n",
       "6   TBN1_Normal 2025-05-14 06:00:00    8.948272  4.473078   8.952974   \n",
       "7   TBN1_Normal 2025-05-14 07:00:00    9.622400  5.693037   9.633430   \n",
       "8   TBN1_Normal 2025-05-14 08:00:00   10.128787  5.914733  10.130705   \n",
       "9   TBN1_Normal 2025-05-14 09:00:00   10.777164  6.157448  10.781615   \n",
       "10  TBN1_Normal 2025-05-14 10:00:00   10.129817  5.128473  10.113532   \n",
       "11  TBN1_Normal 2025-05-14 11:00:00   10.420845  5.416483  10.403835   \n",
       "12  TBN1_Normal 2025-05-14 12:00:00    9.945949  5.435104   9.940723   \n",
       "13  TBN1_Normal 2025-05-14 13:00:00   10.799851  6.532642  10.781901   \n",
       "14  TBN1_Normal 2025-05-14 14:00:00   10.899804  5.758739  10.875521   \n",
       "15  TBN1_Normal 2025-05-14 15:00:00   10.150772  4.625854  10.116245   \n",
       "16  TBN1_Normal 2025-05-14 16:00:00    9.723839  4.691577   9.701706   \n",
       "17  TBN1_Normal 2025-05-14 17:00:00    8.556361  4.500147   8.541111   \n",
       "18  TBN1_Normal 2025-05-14 18:00:00    8.201084  4.148947   8.164850   \n",
       "19  TBN1_Normal 2025-05-14 19:00:00    8.169866  4.079436   8.126693   \n",
       "20  TBN1_Normal 2025-05-14 20:00:00    8.536168  4.529039   8.498255   \n",
       "21  TBN1_Normal 2025-05-14 21:00:00    8.493239  4.333650   8.443252   \n",
       "22  TBN1_Normal 2025-05-14 22:00:00    7.769643  2.827756   7.721903   \n",
       "23  TBN1_Normal 2025-05-15 00:00:00    6.130724  1.905466   6.125138   \n",
       "24  TBN1_Normal 2025-05-15 01:00:00    6.333231  2.097663   6.321151   \n",
       "25  TBN1_Normal 2025-05-15 02:00:00    7.614895  3.317991   7.581050   \n",
       "26  TBN1_Normal 2025-05-15 03:00:00    7.421203  2.817408   7.399576   \n",
       "27  TBN1_Normal 2025-05-15 04:00:00    8.347266  3.878889   8.349401   \n",
       "28  TBN1_Normal 2025-05-15 05:00:00    8.473971  4.386071   8.469734   \n",
       "29  TBN1_Normal 2025-05-15 06:00:00    8.573611  4.562100   8.578329   \n",
       "30  TBN1_Normal 2025-05-15 07:00:00    9.274691  5.550200   9.285757   \n",
       "31  TBN1_Normal 2025-05-15 08:00:00    9.389438  5.257434   9.391362   \n",
       "32  TBN1_Normal 2025-05-15 09:00:00    9.730870  5.410521   9.735335   \n",
       "33  TBN1_Normal 2025-05-15 10:00:00    9.003249  4.391241   8.986910   \n",
       "34  TBN1_Normal 2025-05-15 11:00:00    9.258851  4.756370   9.241786   \n",
       "35  TBN1_Normal 2025-05-15 12:00:00    8.746315  4.745122   8.741071   \n",
       "36  TBN1_Normal 2025-05-15 13:00:00    9.465300  5.597924   9.447291   \n",
       "37  TBN1_Normal 2025-05-15 14:00:00    9.608679  5.193423   9.584316   \n",
       "38  TBN1_Normal 2025-05-15 15:00:00    8.988213  4.362671   8.953572   \n",
       "39  TBN1_Normal 2025-05-15 16:00:00    8.940342  4.612498   8.918136   \n",
       "40  TBN1_Normal 2025-05-15 17:00:00    7.811702  4.245347   7.796402   \n",
       "41  TBN1_Normal 2025-05-15 18:00:00    7.595261  4.177854   7.558908   \n",
       "42  TBN1_Normal 2025-05-15 19:00:00    7.888279  4.553737   7.844964   \n",
       "43  TBN1_Normal 2025-05-15 20:00:00    8.311293  5.015658   8.273255   \n",
       "44  TBN1_Normal 2025-05-15 21:00:00    8.479564  5.051698   8.429412   \n",
       "45  TBN1_Normal 2025-05-15 22:00:00    8.130204  4.265372   8.082307   \n",
       "46  TBN1_Normal 2025-05-16 00:00:00    7.086622  3.824313   7.081034   \n",
       "47  TBN1_Normal 2025-05-16 01:00:00    6.788976  3.519050   6.776892   \n",
       "\n",
       "        0.9_x  count_pick     0.1_y     0.5_y      0.9_y  \n",
       "0    9.041194    2.379339  0.650609  2.379306   4.084045  \n",
       "1    9.640804    3.828759  1.921720  3.826703   5.688512  \n",
       "2   11.276901    3.502360  1.518091  3.501970   5.426108  \n",
       "3   11.004420    2.774519  0.543634  2.766988   4.963762  \n",
       "4   12.368245    2.615007  0.025947  2.525837   5.276367  \n",
       "5   12.215391    3.950608  1.977214  3.846508   5.982568  \n",
       "6   12.714292    7.070139  4.278069  7.150101   9.599209  \n",
       "7   12.973222    8.067960  5.326060  8.268063  10.760945  \n",
       "8   13.853960    7.666685  3.701526  7.699147  10.910821  \n",
       "9   14.964552    6.230510  2.928947  6.061461   9.787983  \n",
       "10  14.788664    6.087323  2.564528  5.850479  10.050446  \n",
       "11  15.189242    6.882733  3.135585  6.612011  10.371098  \n",
       "12  14.260170    8.208203  4.299577  7.902869  12.177972  \n",
       "13  14.956365    8.657235  4.392794  8.376624  13.115999  \n",
       "14  15.978188    7.942394  3.863672  7.260470  12.743083  \n",
       "15  15.671338    7.619232  3.701895  7.114200  11.266156  \n",
       "16  14.795678    6.579773  3.468684  6.504303  10.229963  \n",
       "17  12.665197    5.647219  2.708354  5.658061   8.551798  \n",
       "18  12.245680    5.204431  1.808883  4.855000   8.896566  \n",
       "19  12.220801    6.008843  3.242946  5.784342   8.950663  \n",
       "20  12.477179    6.138137  3.181607  5.977649   9.080506  \n",
       "21  12.590932    6.162176  3.149234  6.069532   9.332292  \n",
       "22  12.644340    3.696019  2.043520  3.692215   5.317319  \n",
       "23   9.102854    3.283911  0.857058  3.593602   5.606441  \n",
       "24   9.403610    5.799466  3.545384  5.803174   8.129013  \n",
       "25  10.846401    5.153777  2.821451  5.154494   7.574372  \n",
       "26  11.114421    4.043329  1.462455  4.048543   6.700612  \n",
       "27  12.074040    3.662148  0.888948  3.660210   6.503715  \n",
       "28  11.998595    4.182455  1.767747  3.847307   7.347356  \n",
       "29  12.198321    6.911413  3.930525  6.928376  10.005371  \n",
       "30  12.763856    8.210684  5.412614  8.318603  11.619500  \n",
       "31  13.401014    7.612854  3.786595  7.710304  11.370080  \n",
       "32  14.005199    6.557308  3.277975  6.255154  10.350253  \n",
       "33  13.664455    6.162975  2.910517  5.606809  10.459940  \n",
       "34  13.909527    7.070221  3.437053  6.633403  12.339273  \n",
       "35  12.920879    8.092929  4.261498  8.178714  12.172569  \n",
       "36  13.584755    8.066892  4.042136  8.021028  12.729790  \n",
       "37  14.333184    7.540859  3.594843  7.223159  12.252234  \n",
       "38  14.008721    7.418025  3.367403  7.105326  12.593609  \n",
       "39  13.738167    6.322806  2.963634  6.030200   9.870833  \n",
       "40  11.812491    5.699716  2.686595  5.655066   8.644184  \n",
       "41  11.320503    5.107583  1.703283  5.039345   8.760308  \n",
       "42  11.478196    5.617277  2.834257  5.412296   8.695931  \n",
       "43  11.835718    5.673025  2.624670  5.790932   8.960048  \n",
       "44  12.145296    6.113643  3.333271  6.264132   9.200816  \n",
       "45  12.233406    4.467043  2.344621  4.017255   6.968328  \n",
       "46   9.794071    3.800395  1.358766  3.965314   6.125974  \n",
       "47   9.550852    6.080904  3.700303  6.425118   8.492930  "
      ]
     },
     "execution_count": 7,
     "metadata": {},
     "output_type": "execute_result"
    }
   ],
   "source": [
    "# 1. Merge forecast và history ban đầu\n",
    "df_merged = pd.merge(\n",
    "    df_fore_processed,\n",
    "    df,\n",
    "    on=['datetime', 'item_id'],\n",
    "    how='left',\n",
    "    suffixes=('_fore', '_hist')\n",
    ")\n",
    "\n",
    "# 2. Kiểm tra cột bắt buộc\n",
    "required_cols = ['units_fore', 'units_hist', 'orders_fore', 'orders_hist',\n",
    "                 'count_pick_hist', 'count_pack_hist']\n",
    "missing_cols = [col for col in required_cols if col not in df_merged.columns]\n",
    "if missing_cols:\n",
    "    raise ValueError(f\"Thiếu cột sau merge: {missing_cols}\")\n",
    "\n",
    "# 3. Cập nhật theo cutoff đầu tiên (ngày cuối cùng có lịch sử)\n",
    "cutoff_base = pd.Timestamp(\"2025-05-13 23:00:00\")\n",
    "df_merged['units']      = np.where(df_merged['datetime'] <= cutoff_base, df_merged['units_hist'], df_merged['units_fore'])\n",
    "df_merged['orders']     = np.where(df_merged['datetime'] <= cutoff_base, df_merged['orders_hist'], df_merged['orders_fore'])\n",
    "df_merged['count_pick'] = np.where(df_merged['datetime'] <= cutoff_base, df_merged['count_pick_hist'], np.nan)\n",
    "df_merged['count_pack'] = np.where(df_merged['datetime'] <= cutoff_base, df_merged['count_pack_hist'], np.nan)\n",
    "\n",
    "# 4. Mã hóa one-hot nếu cần\n",
    "df_merged_enc = pd.get_dummies(df_merged, columns=['warehouse_fore', 'day_type_fore'], drop_first=True)\n",
    "\n",
    "# 5. Lọc các cột cần dùng\n",
    "df_merged_final = df_merged_enc[['datetime', 'item_id', 'units', 'orders', 'count_pick', 'count_pack']].copy()\n",
    "df_merged_final = df_merged_final.dropna(subset=['units', 'orders'])\n",
    "\n",
    "# Lưu kết quả dự báo\n",
    "all_forecasts = []\n",
    "\n",
    "# 6. Vòng lặp 7 ngày\n",
    "for i in range(15):\n",
    "    forecast_date = pd.Timestamp('2025-05-14') + pd.Timedelta(days=i)\n",
    "    forecast_start = forecast_date\n",
    "    forecast_end = forecast_date + pd.Timedelta(days=1)\n",
    "\n",
    "    # Tạo tập huấn luyện đến thời điểm hiện tại\n",
    "    df_merged_train = df_merged_final[df_merged_final['datetime'] <= forecast_date - pd.Timedelta(hours=1)]\n",
    "    df_merged_train = df_merged_train.dropna(subset=['count_pick', 'count_pack'])\n",
    "\n",
    "    if df_merged_train.empty:\n",
    "        print(f\"⛔️ Không đủ dữ liệu để train cho ngày {forecast_date.date()}, bỏ qua.\")\n",
    "        continue\n",
    "\n",
    "    # Tạo TimeSeriesDataFrame\n",
    "    train_ts = TimeSeriesDataFrame.from_data_frame(\n",
    "        df_merged_train,\n",
    "        id_column=\"item_id\",\n",
    "        timestamp_column=\"datetime\"\n",
    "    )\n",
    "\n",
    "    # Load model & predict\n",
    "    prediction_pack = TimeSeriesPredictor.load(\"Autogluon_Pack_avg\")\n",
    "    prediction_pick = TimeSeriesPredictor.load(\"Autogluon_Pick_avg\")\n",
    "\n",
    "    pred_pack_ts = prediction_pack.predict(train_ts, random_seed=42).to_data_frame().reset_index()\n",
    "    pred_pick_ts = prediction_pick.predict(train_ts, random_seed=42).to_data_frame().reset_index()\n",
    "\n",
    "    df_pack_pred = pred_pack_ts.rename(columns={'mean': 'count_pack'})\n",
    "    df_pick_pred = pred_pick_ts.rename(columns={'mean': 'count_pick'})\n",
    "    df_pred = pd.merge(df_pack_pred, df_pick_pred, on=['item_id', 'timestamp'], how='outer')\n",
    "    df_pred = df_pred.rename(columns={'timestamp': 'datetime'})\n",
    "\n",
    "    # Lọc forecast đúng khung thời gian\n",
    "    df_fc = df_pred[(df_pred['datetime'] >= forecast_start) & (df_pred['datetime'] < forecast_end)]\n",
    "\n",
    "    if df_fc.empty:\n",
    "        print(f\"⚠️ Không có forecast cho ngày {forecast_date.date()}, bỏ qua.\")\n",
    "        continue\n",
    "\n",
    "    # ✅ Gộp vào df_merged_final kiểu outer, dùng combine_first\n",
    "    df_merged_final = pd.merge(\n",
    "        df_merged_final,\n",
    "        df_fc[['item_id', 'datetime', 'count_pack', 'count_pick']],\n",
    "        on=['item_id', 'datetime'],\n",
    "        how='outer',\n",
    "        suffixes=('', '_forecast')\n",
    "    )\n",
    "\n",
    "    df_merged_final['count_pack'] = df_merged_final['count_pack'].combine_first(df_merged_final['count_pack_forecast'])\n",
    "    df_merged_final['count_pick'] = df_merged_final['count_pick'].combine_first(df_merged_final['count_pick_forecast'])\n",
    "\n",
    "    df_merged_final.drop(columns=['count_pack_forecast', 'count_pick_forecast'], inplace=True)\n",
    "\n",
    "    print(f\"✅ Dự báo xong ngày {forecast_date.date()} — {len(df_fc)} bản ghi.\")\n",
    "    all_forecasts.append(df_fc)\n",
    "\n",
    "# 7. Gộp kết quả dự báo\n",
    "if all_forecasts:\n",
    "    df_all_forecasts = pd.concat(all_forecasts, ignore_index=True)\n",
    "    df_all_forecasts = df_all_forecasts.sort_values(by=['item_id', 'datetime']).reset_index(drop=True)\n",
    "else:\n",
    "    df_all_forecasts = pd.DataFrame(columns=['item_id', 'datetime', 'count_pack', 'count_pick'])\n",
    "\n",
    "# 8. Hiển thị kết quả đầu ra\n",
    "df_all_forecasts.head(48)\n"
   ]
  },
  {
   "cell_type": "code",
   "execution_count": null,
   "id": "35b397ef",
   "metadata": {},
   "outputs": [
    {
     "name": "stdout",
     "output_type": "stream",
     "text": [
      "       item_id        date      shift  count_pack  count_pick  FTE_count\n",
      "0  TBN1_Normal  2025-05-14   TKN_CA 1         9.0         7.0       17.0\n",
      "1  TBN1_Normal  2025-05-14  TKN_CA 26         9.0         6.0       15.0\n",
      "2  TBN1_Normal  2025-05-14  TKN_CA 34         9.0         7.0       16.0\n",
      "3  TBN1_Normal  2025-05-15   TKN_CA 1         9.0         7.0       16.0\n",
      "4  TBN1_Normal  2025-05-15  TKN_CA 26         8.0         6.0       14.0\n",
      "5  TBN1_Normal  2025-05-15  TKN_CA 34         9.0         6.0       15.0\n",
      "6  TBN1_Normal  2025-05-16   TKN_CA 1         9.0         6.0       15.0\n",
      "7  TBN1_Normal  2025-05-16  TKN_CA 26         9.0         6.0       15.0\n",
      "8  TBN1_Normal  2025-05-16  TKN_CA 34         9.0         6.0       15.0\n",
      "9  TBN1_Normal  2025-05-17   TKN_CA 1         9.0         6.0       16.0\n"
     ]
    }
   ],
   "source": [
    "# 1. Chuẩn bị FTE từ dự báo\n",
    "FTE = df_all_forecasts[['item_id', 'datetime', 'count_pack', 'count_pick']].copy()\n",
    "FTE['count_pack'] = np.ceil(FTE['count_pack'])\n",
    "FTE['count_pick'] = np.ceil(FTE['count_pick'])\n",
    "FTE['FTE_count'] = FTE['count_pack'] + FTE['count_pick']\n",
    "\n",
    "# 2. Định nghĩa shift\n",
    "shift_map = {\n",
    "    'TKN_CA 26': ('12:00:00', '20:00:00'),\n",
    "    'TKN_CA 1':  ('06:00:00', '14:00:00'),\n",
    "    'TKN_CA 34': ('14:00:00', '22:00:00'),\n",
    "    'TKN_CA 30': ('13:00:00', '21:00:00'),\n",
    "    'TKN_CA 53': ('08:00:00', '16:00:00'),\n",
    "    'TKN_CA 13': ('09:00:00', '17:00:00'),\n",
    "    'TKN_CA 25': ('11:30:00', '19:30:00'),\n",
    "}\n",
    "\n",
    "# 3. Chuyển giờ sang dạng time\n",
    "shift_times = {\n",
    "    shift: (datetime.time.fromisoformat(start), datetime.time.fromisoformat(end))\n",
    "    for shift, (start, end) in shift_map.items()\n",
    "}\n",
    "\n",
    "# 4. Tạo timestamp\n",
    "FTE['timestamp'] = pd.to_datetime(FTE['datetime'])\n",
    "\n",
    "# 5. Hàm gán shift\n",
    "def assign_shift(ts):\n",
    "    t = ts.time()\n",
    "    for shift, (start, end) in shift_times.items():\n",
    "        if start <= t < end:\n",
    "            return shift\n",
    "    return None\n",
    "\n",
    "# 6. Gán shift và ngày\n",
    "FTE['shift'] = FTE['timestamp'].apply(assign_shift)\n",
    "FTE['date'] = FTE['timestamp'].dt.date\n",
    "\n",
    "# 7. Tổng hợp theo item_id, ngày, ca\n",
    "agg_result = (\n",
    "    FTE.dropna(subset=['shift'])\n",
    "       .groupby(['item_id', 'date', 'shift'], as_index=False)\n",
    "       .agg({\n",
    "           'count_pack': 'min',\n",
    "           'count_pick': 'min',\n",
    "           'FTE_count': 'min'\n",
    "       })\n",
    ")\n",
    "\n",
    "# Làm tròn FTE_count\n",
    "agg_result['FTE_count'] = np.ceil(agg_result['FTE_count'])\n",
    "\n",
    "# 8. Xuất ra file CSV\n",
    "agg_result.to_csv(\"FTE_forecast.csv\", index=False)\n",
    "\n",
    "# 9. Xem trước kết quả\n",
    "print(agg_result.head(10))\n"
   ]
  },
  {
   "cell_type": "code",
   "execution_count": 55,
   "id": "31c3af83",
   "metadata": {},
   "outputs": [
    {
     "data": {
      "application/vnd.plotly.v1+json": {
       "config": {
        "plotlyServerURL": "https://plot.ly"
       },
       "data": [
        {
         "coloraxis": "coloraxis",
         "hovertemplate": "Date: %{x}<br>Shift: %{y}<br>FTE Count: %{z}<extra></extra>",
         "name": "0",
         "texttemplate": "%{z:.2f}",
         "type": "heatmap",
         "x": [
          "2025-05-14",
          "2025-05-15",
          "2025-05-16",
          "2025-05-17",
          "2025-05-18",
          "2025-05-19",
          "2025-05-20",
          "2025-05-21",
          "2025-05-22",
          "2025-05-23",
          "2025-05-24",
          "2025-05-25",
          "2025-05-26",
          "2025-05-27",
          "2025-05-28"
         ],
         "xaxis": "x",
         "y": [
          "TKN_CA 1",
          "TKN_CA 26",
          "TKN_CA 34"
         ],
         "yaxis": "y",
         "z": [
          [
           17,
           16,
           15,
           16,
           16,
           16,
           16,
           16,
           16,
           16,
           16,
           16,
           16,
           17,
           17
          ],
          [
           15,
           14,
           15,
           15,
           15,
           15,
           15,
           15,
           16,
           16,
           16,
           16,
           16,
           16,
           16
          ],
          [
           16,
           15,
           15,
           16,
           16,
           16,
           17,
           17,
           17,
           16,
           17,
           17,
           18,
           18,
           18
          ]
         ]
        }
       ],
       "layout": {
        "autosize": true,
        "coloraxis": {
         "colorbar": {
          "title": {
           "text": "FTE Count"
          }
         },
         "colorscale": [
          [
           0,
           "rgb(247,251,255)"
          ],
          [
           0.125,
           "rgb(222,235,247)"
          ],
          [
           0.25,
           "rgb(198,219,239)"
          ],
          [
           0.375,
           "rgb(158,202,225)"
          ],
          [
           0.5,
           "rgb(107,174,214)"
          ],
          [
           0.625,
           "rgb(66,146,198)"
          ],
          [
           0.75,
           "rgb(33,113,181)"
          ],
          [
           0.875,
           "rgb(8,81,156)"
          ],
          [
           1,
           "rgb(8,48,107)"
          ]
         ]
        },
        "margin": {
         "t": 60
        },
        "template": {
         "data": {
          "bar": [
           {
            "error_x": {
             "color": "#2a3f5f"
            },
            "error_y": {
             "color": "#2a3f5f"
            },
            "marker": {
             "line": {
              "color": "#E5ECF6",
              "width": 0.5
             },
             "pattern": {
              "fillmode": "overlay",
              "size": 10,
              "solidity": 0.2
             }
            },
            "type": "bar"
           }
          ],
          "barpolar": [
           {
            "marker": {
             "line": {
              "color": "#E5ECF6",
              "width": 0.5
             },
             "pattern": {
              "fillmode": "overlay",
              "size": 10,
              "solidity": 0.2
             }
            },
            "type": "barpolar"
           }
          ],
          "carpet": [
           {
            "aaxis": {
             "endlinecolor": "#2a3f5f",
             "gridcolor": "white",
             "linecolor": "white",
             "minorgridcolor": "white",
             "startlinecolor": "#2a3f5f"
            },
            "baxis": {
             "endlinecolor": "#2a3f5f",
             "gridcolor": "white",
             "linecolor": "white",
             "minorgridcolor": "white",
             "startlinecolor": "#2a3f5f"
            },
            "type": "carpet"
           }
          ],
          "choropleth": [
           {
            "colorbar": {
             "outlinewidth": 0,
             "ticks": ""
            },
            "type": "choropleth"
           }
          ],
          "contour": [
           {
            "colorbar": {
             "outlinewidth": 0,
             "ticks": ""
            },
            "colorscale": [
             [
              0,
              "#0d0887"
             ],
             [
              0.1111111111111111,
              "#46039f"
             ],
             [
              0.2222222222222222,
              "#7201a8"
             ],
             [
              0.3333333333333333,
              "#9c179e"
             ],
             [
              0.4444444444444444,
              "#bd3786"
             ],
             [
              0.5555555555555556,
              "#d8576b"
             ],
             [
              0.6666666666666666,
              "#ed7953"
             ],
             [
              0.7777777777777778,
              "#fb9f3a"
             ],
             [
              0.8888888888888888,
              "#fdca26"
             ],
             [
              1,
              "#f0f921"
             ]
            ],
            "type": "contour"
           }
          ],
          "contourcarpet": [
           {
            "colorbar": {
             "outlinewidth": 0,
             "ticks": ""
            },
            "type": "contourcarpet"
           }
          ],
          "heatmap": [
           {
            "colorbar": {
             "outlinewidth": 0,
             "ticks": ""
            },
            "colorscale": [
             [
              0,
              "#0d0887"
             ],
             [
              0.1111111111111111,
              "#46039f"
             ],
             [
              0.2222222222222222,
              "#7201a8"
             ],
             [
              0.3333333333333333,
              "#9c179e"
             ],
             [
              0.4444444444444444,
              "#bd3786"
             ],
             [
              0.5555555555555556,
              "#d8576b"
             ],
             [
              0.6666666666666666,
              "#ed7953"
             ],
             [
              0.7777777777777778,
              "#fb9f3a"
             ],
             [
              0.8888888888888888,
              "#fdca26"
             ],
             [
              1,
              "#f0f921"
             ]
            ],
            "type": "heatmap"
           }
          ],
          "heatmapgl": [
           {
            "colorbar": {
             "outlinewidth": 0,
             "ticks": ""
            },
            "colorscale": [
             [
              0,
              "#0d0887"
             ],
             [
              0.1111111111111111,
              "#46039f"
             ],
             [
              0.2222222222222222,
              "#7201a8"
             ],
             [
              0.3333333333333333,
              "#9c179e"
             ],
             [
              0.4444444444444444,
              "#bd3786"
             ],
             [
              0.5555555555555556,
              "#d8576b"
             ],
             [
              0.6666666666666666,
              "#ed7953"
             ],
             [
              0.7777777777777778,
              "#fb9f3a"
             ],
             [
              0.8888888888888888,
              "#fdca26"
             ],
             [
              1,
              "#f0f921"
             ]
            ],
            "type": "heatmapgl"
           }
          ],
          "histogram": [
           {
            "marker": {
             "pattern": {
              "fillmode": "overlay",
              "size": 10,
              "solidity": 0.2
             }
            },
            "type": "histogram"
           }
          ],
          "histogram2d": [
           {
            "colorbar": {
             "outlinewidth": 0,
             "ticks": ""
            },
            "colorscale": [
             [
              0,
              "#0d0887"
             ],
             [
              0.1111111111111111,
              "#46039f"
             ],
             [
              0.2222222222222222,
              "#7201a8"
             ],
             [
              0.3333333333333333,
              "#9c179e"
             ],
             [
              0.4444444444444444,
              "#bd3786"
             ],
             [
              0.5555555555555556,
              "#d8576b"
             ],
             [
              0.6666666666666666,
              "#ed7953"
             ],
             [
              0.7777777777777778,
              "#fb9f3a"
             ],
             [
              0.8888888888888888,
              "#fdca26"
             ],
             [
              1,
              "#f0f921"
             ]
            ],
            "type": "histogram2d"
           }
          ],
          "histogram2dcontour": [
           {
            "colorbar": {
             "outlinewidth": 0,
             "ticks": ""
            },
            "colorscale": [
             [
              0,
              "#0d0887"
             ],
             [
              0.1111111111111111,
              "#46039f"
             ],
             [
              0.2222222222222222,
              "#7201a8"
             ],
             [
              0.3333333333333333,
              "#9c179e"
             ],
             [
              0.4444444444444444,
              "#bd3786"
             ],
             [
              0.5555555555555556,
              "#d8576b"
             ],
             [
              0.6666666666666666,
              "#ed7953"
             ],
             [
              0.7777777777777778,
              "#fb9f3a"
             ],
             [
              0.8888888888888888,
              "#fdca26"
             ],
             [
              1,
              "#f0f921"
             ]
            ],
            "type": "histogram2dcontour"
           }
          ],
          "mesh3d": [
           {
            "colorbar": {
             "outlinewidth": 0,
             "ticks": ""
            },
            "type": "mesh3d"
           }
          ],
          "parcoords": [
           {
            "line": {
             "colorbar": {
              "outlinewidth": 0,
              "ticks": ""
             }
            },
            "type": "parcoords"
           }
          ],
          "pie": [
           {
            "automargin": true,
            "type": "pie"
           }
          ],
          "scatter": [
           {
            "fillpattern": {
             "fillmode": "overlay",
             "size": 10,
             "solidity": 0.2
            },
            "type": "scatter"
           }
          ],
          "scatter3d": [
           {
            "line": {
             "colorbar": {
              "outlinewidth": 0,
              "ticks": ""
             }
            },
            "marker": {
             "colorbar": {
              "outlinewidth": 0,
              "ticks": ""
             }
            },
            "type": "scatter3d"
           }
          ],
          "scattercarpet": [
           {
            "marker": {
             "colorbar": {
              "outlinewidth": 0,
              "ticks": ""
             }
            },
            "type": "scattercarpet"
           }
          ],
          "scattergeo": [
           {
            "marker": {
             "colorbar": {
              "outlinewidth": 0,
              "ticks": ""
             }
            },
            "type": "scattergeo"
           }
          ],
          "scattergl": [
           {
            "marker": {
             "colorbar": {
              "outlinewidth": 0,
              "ticks": ""
             }
            },
            "type": "scattergl"
           }
          ],
          "scattermapbox": [
           {
            "marker": {
             "colorbar": {
              "outlinewidth": 0,
              "ticks": ""
             }
            },
            "type": "scattermapbox"
           }
          ],
          "scatterpolar": [
           {
            "marker": {
             "colorbar": {
              "outlinewidth": 0,
              "ticks": ""
             }
            },
            "type": "scatterpolar"
           }
          ],
          "scatterpolargl": [
           {
            "marker": {
             "colorbar": {
              "outlinewidth": 0,
              "ticks": ""
             }
            },
            "type": "scatterpolargl"
           }
          ],
          "scatterternary": [
           {
            "marker": {
             "colorbar": {
              "outlinewidth": 0,
              "ticks": ""
             }
            },
            "type": "scatterternary"
           }
          ],
          "surface": [
           {
            "colorbar": {
             "outlinewidth": 0,
             "ticks": ""
            },
            "colorscale": [
             [
              0,
              "#0d0887"
             ],
             [
              0.1111111111111111,
              "#46039f"
             ],
             [
              0.2222222222222222,
              "#7201a8"
             ],
             [
              0.3333333333333333,
              "#9c179e"
             ],
             [
              0.4444444444444444,
              "#bd3786"
             ],
             [
              0.5555555555555556,
              "#d8576b"
             ],
             [
              0.6666666666666666,
              "#ed7953"
             ],
             [
              0.7777777777777778,
              "#fb9f3a"
             ],
             [
              0.8888888888888888,
              "#fdca26"
             ],
             [
              1,
              "#f0f921"
             ]
            ],
            "type": "surface"
           }
          ],
          "table": [
           {
            "cells": {
             "fill": {
              "color": "#EBF0F8"
             },
             "line": {
              "color": "white"
             }
            },
            "header": {
             "fill": {
              "color": "#C8D4E3"
             },
             "line": {
              "color": "white"
             }
            },
            "type": "table"
           }
          ]
         },
         "layout": {
          "annotationdefaults": {
           "arrowcolor": "#2a3f5f",
           "arrowhead": 0,
           "arrowwidth": 1
          },
          "autotypenumbers": "strict",
          "coloraxis": {
           "colorbar": {
            "outlinewidth": 0,
            "ticks": ""
           }
          },
          "colorscale": {
           "diverging": [
            [
             0,
             "#8e0152"
            ],
            [
             0.1,
             "#c51b7d"
            ],
            [
             0.2,
             "#de77ae"
            ],
            [
             0.3,
             "#f1b6da"
            ],
            [
             0.4,
             "#fde0ef"
            ],
            [
             0.5,
             "#f7f7f7"
            ],
            [
             0.6,
             "#e6f5d0"
            ],
            [
             0.7,
             "#b8e186"
            ],
            [
             0.8,
             "#7fbc41"
            ],
            [
             0.9,
             "#4d9221"
            ],
            [
             1,
             "#276419"
            ]
           ],
           "sequential": [
            [
             0,
             "#0d0887"
            ],
            [
             0.1111111111111111,
             "#46039f"
            ],
            [
             0.2222222222222222,
             "#7201a8"
            ],
            [
             0.3333333333333333,
             "#9c179e"
            ],
            [
             0.4444444444444444,
             "#bd3786"
            ],
            [
             0.5555555555555556,
             "#d8576b"
            ],
            [
             0.6666666666666666,
             "#ed7953"
            ],
            [
             0.7777777777777778,
             "#fb9f3a"
            ],
            [
             0.8888888888888888,
             "#fdca26"
            ],
            [
             1,
             "#f0f921"
            ]
           ],
           "sequentialminus": [
            [
             0,
             "#0d0887"
            ],
            [
             0.1111111111111111,
             "#46039f"
            ],
            [
             0.2222222222222222,
             "#7201a8"
            ],
            [
             0.3333333333333333,
             "#9c179e"
            ],
            [
             0.4444444444444444,
             "#bd3786"
            ],
            [
             0.5555555555555556,
             "#d8576b"
            ],
            [
             0.6666666666666666,
             "#ed7953"
            ],
            [
             0.7777777777777778,
             "#fb9f3a"
            ],
            [
             0.8888888888888888,
             "#fdca26"
            ],
            [
             1,
             "#f0f921"
            ]
           ]
          },
          "colorway": [
           "#636efa",
           "#EF553B",
           "#00cc96",
           "#ab63fa",
           "#FFA15A",
           "#19d3f3",
           "#FF6692",
           "#B6E880",
           "#FF97FF",
           "#FECB52"
          ],
          "font": {
           "color": "#2a3f5f"
          },
          "geo": {
           "bgcolor": "white",
           "lakecolor": "white",
           "landcolor": "#E5ECF6",
           "showlakes": true,
           "showland": true,
           "subunitcolor": "white"
          },
          "hoverlabel": {
           "align": "left"
          },
          "hovermode": "closest",
          "mapbox": {
           "style": "light"
          },
          "paper_bgcolor": "white",
          "plot_bgcolor": "#E5ECF6",
          "polar": {
           "angularaxis": {
            "gridcolor": "white",
            "linecolor": "white",
            "ticks": ""
           },
           "bgcolor": "#E5ECF6",
           "radialaxis": {
            "gridcolor": "white",
            "linecolor": "white",
            "ticks": ""
           }
          },
          "scene": {
           "xaxis": {
            "backgroundcolor": "#E5ECF6",
            "gridcolor": "white",
            "gridwidth": 2,
            "linecolor": "white",
            "showbackground": true,
            "ticks": "",
            "zerolinecolor": "white"
           },
           "yaxis": {
            "backgroundcolor": "#E5ECF6",
            "gridcolor": "white",
            "gridwidth": 2,
            "linecolor": "white",
            "showbackground": true,
            "ticks": "",
            "zerolinecolor": "white"
           },
           "zaxis": {
            "backgroundcolor": "#E5ECF6",
            "gridcolor": "white",
            "gridwidth": 2,
            "linecolor": "white",
            "showbackground": true,
            "ticks": "",
            "zerolinecolor": "white"
           }
          },
          "shapedefaults": {
           "line": {
            "color": "#2a3f5f"
           }
          },
          "ternary": {
           "aaxis": {
            "gridcolor": "white",
            "linecolor": "white",
            "ticks": ""
           },
           "baxis": {
            "gridcolor": "white",
            "linecolor": "white",
            "ticks": ""
           },
           "bgcolor": "#E5ECF6",
           "caxis": {
            "gridcolor": "white",
            "linecolor": "white",
            "ticks": ""
           }
          },
          "title": {
           "x": 0.05
          },
          "xaxis": {
           "automargin": true,
           "gridcolor": "white",
           "linecolor": "white",
           "ticks": "",
           "title": {
            "standoff": 15
           },
           "zerolinecolor": "white",
           "zerolinewidth": 2
          },
          "yaxis": {
           "automargin": true,
           "gridcolor": "white",
           "linecolor": "white",
           "ticks": "",
           "title": {
            "standoff": 15
           },
           "zerolinecolor": "white",
           "zerolinewidth": 2
          }
         }
        },
        "title": {
         "text": "Shift Forecast"
        },
        "xaxis": {
         "anchor": "y",
         "constrain": "domain",
         "domain": [
          0,
          1
         ],
         "scaleanchor": "y",
         "title": {
          "text": "Date"
         },
         "type": "category"
        },
        "yaxis": {
         "anchor": "x",
         "autorange": "reversed",
         "constrain": "domain",
         "domain": [
          0,
          1
         ],
         "title": {
          "text": "Shift"
         },
         "type": "category"
        }
       }
      }
     },
     "metadata": {},
     "output_type": "display_data"
    }
   ],
   "source": [
    "# Giả sử biến bạn đang dùng là result\n",
    "fig = px.imshow(\n",
    "    result.pivot(index='shift', columns='date', values='FTE_count'),\n",
    "    labels=dict(x=\"Date\", y=\"Shift\", color=\"FTE Count\"),\n",
    "    color_continuous_scale='Blues',\n",
    "    text_auto=\".2f\"  # hiển thị số ngay trong ô\n",
    ")\n",
    "\n",
    "fig.update_layout(\n",
    "    title=\"Shift Forecast\",\n",
    "    xaxis_title=\"Date\",\n",
    "    yaxis_title=\"Shift\",\n",
    "    xaxis=dict(type='category'),\n",
    "    yaxis=dict(type='category'),\n",
    "    autosize=True\n",
    ")\n",
    "\n",
    "fig.show()\n"
   ]
  },
  {
   "cell_type": "code",
   "execution_count": null,
   "id": "586914e7",
   "metadata": {},
   "outputs": [],
   "source": []
  }
 ],
 "metadata": {
  "kernelspec": {
   "display_name": "base",
   "language": "python",
   "name": "python3"
  },
  "language_info": {
   "codemirror_mode": {
    "name": "ipython",
    "version": 3
   },
   "file_extension": ".py",
   "mimetype": "text/x-python",
   "name": "python",
   "nbconvert_exporter": "python",
   "pygments_lexer": "ipython3",
   "version": "3.12.7"
  }
 },
 "nbformat": 4,
 "nbformat_minor": 5
}
